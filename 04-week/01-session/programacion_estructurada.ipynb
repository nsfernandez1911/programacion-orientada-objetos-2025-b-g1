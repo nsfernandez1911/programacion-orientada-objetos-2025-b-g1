{
  "cells": [
    {
      "cell_type": "markdown",
      "metadata": {
        "id": "zHcA6uRAWHs2"
      },
      "source": [
        "Programación estructurada\n",
        "\n",
        "Se requiere calcular el valor a pagar de una comprsa dónde se conoce el `valor unitario del porducto` y la  `cantidad a llevar`."
      ]
    },
    {
      "cell_type": "code",
      "execution_count": 1,
      "metadata": {
        "colab": {
          "base_uri": "https://localhost:8080/"
        },
        "id": "RYyYsWC7WB-f",
        "outputId": "340d9a92-eb4d-4daf-f718-ad87d44fbca2"
      },
      "outputs": [
        {
          "name": "stdout",
          "output_type": "stream",
          "text": [
            "Pedro debe pagar por 2 naranjas, un total de 600\n",
            "María debe pagar por 3 naranjas, un total de 900\n",
            "Diana debe pagar por 4 naranjas, un total de 1200\n"
          ]
        }
      ],
      "source": [
        "# Precios\n",
        "naranaja = 300\n",
        "manzana = 2200\n",
        "durazno = 3000\n",
        "\n",
        "# 'Pedro lleva dos naranjas'\n",
        "valor_unitario = naranaja\n",
        "cantidad = 2\n",
        "valor_total = valor_unitario * cantidad\n",
        "print('Pedro debe pagar por '+str(cantidad)+' naranjas, un total de '+str(valor_total))\n",
        "\n",
        "# 'María lleva tres naranjas'\n",
        "valor_unitario = naranaja\n",
        "cantidad = 3\n",
        "valor_total = valor_unitario * cantidad\n",
        "print('María debe pagar por '+str(cantidad)+' naranjas, un total de '+str(valor_total))\n",
        "\n",
        "# 'Diana lleva cuatro naranjas'\n",
        "valor_unitario = naranaja\n",
        "cantidad = 4\n",
        "valor_total = valor_unitario * cantidad\n",
        "print('Diana debe pagar por '+str(cantidad)+' naranjas, un total de '+str(valor_total))"
      ]
    },
    {
      "cell_type": "markdown",
      "metadata": {
        "id": "pZN8ux9nW7q7"
      },
      "source": [
        "# Reto 1\n",
        "\n",
        "Reto: ¿Qué, si se requiere cambiar el mensaje de salida, proponga la solución de acuerdo a lo socializado en clase?."
      ]
    },
    {
      "cell_type": "code",
      "execution_count": 2,
      "metadata": {
        "colab": {
          "base_uri": "https://localhost:8080/"
        },
        "id": "t9jEGVYqXMLr",
        "outputId": "f43558b5-434c-430e-88ff-4dfdf324bf62"
      },
      "outputs": [
        {
          "name": "stdout",
          "output_type": "stream",
          "text": [
            "Factura de compra: Pedro \n",
            " Dato de la compra: 2 naranaja \n",
            " Valor facturado:  600 \n",
            "\n",
            "Factura de compra: María \n",
            " Dato de la compra: 3 naranaja \n",
            " Valor facturado:  900 \n",
            "\n",
            "Factura de compra: Diana \n",
            " Dato de la compra: 4 naranaja \n",
            " Valor facturado:  1200 \n",
            "\n"
          ]
        }
      ],
      "source": [
        "# Precios\n",
        "naranaja = 300\n",
        "manzana = 2200\n",
        "durazno = 3000\n",
        "\n",
        "#def calcular_valor_a_pagar()\n",
        "\n",
        "def imprmir_factura(persona,fruta, valor_unitario, cantidad,valor_total):\n",
        "  #print(f'{persona} debe pagar por {str(cantidad)} {fruta} un total de {str(valor_total)}')\n",
        "  print(f'Factura de compra: {persona} \\n Dato de la compra: {str(cantidad)} {fruta} \\n Valor facturado:  {str(valor_total)} \\n')\n",
        "\n",
        "\n",
        "# 'Pedro lleva dos naranjas'\n",
        "cantidad = 2\n",
        "valor_total = valor_unitario * cantidad\n",
        "imprmir_factura('Pedro', 'naranaja', naranaja, cantidad, valor_total)\n",
        "\n",
        "# 'María lleva tres naranjas'\n",
        "cantidad = 3\n",
        "valor_total = valor_unitario * cantidad\n",
        "imprmir_factura('María', 'naranaja', naranaja, cantidad, valor_total)\n",
        "\n",
        "# 'Diana lleva cuatro naranjas'\n",
        "cantidad = 4\n",
        "valor_total = valor_unitario * cantidad\n",
        "imprmir_factura('Diana', 'naranaja', naranaja, cantidad, valor_total)"
      ]
    },
    {
      "cell_type": "markdown",
      "metadata": {
        "id": "shAGfK0pasjS"
      },
      "source": [
        "# Reto 2\n",
        "\n",
        "Contruir una función que identifique el valor unitario y producto; este puedaregresar el dato de valor a pagar"
      ]
    },
    {
      "cell_type": "code",
      "execution_count": 3,
      "metadata": {
        "colab": {
          "base_uri": "https://localhost:8080/"
        },
        "id": "1DuQTnXKa_Wv",
        "outputId": "08516836-4270-4441-bf17-45f7e3082d7e"
      },
      "outputs": [
        {
          "name": "stdout",
          "output_type": "stream",
          "text": [
            "Factura de compra: Pedro \n",
            " Dato de la compra: 2 naranaja \n",
            " Valor facturado:  600 \n",
            "\n",
            "Factura de compra: María \n",
            " Dato de la compra: 3 naranaja \n",
            " Valor facturado:  900 \n",
            "\n",
            "Factura de compra: Diana \n",
            " Dato de la compra: 4 naranaja \n",
            " Valor facturado:  1200 \n",
            "\n"
          ]
        }
      ],
      "source": [
        "# Precios\n",
        "naranaja = 300\n",
        "manzana = 2200\n",
        "durazno = 3000\n",
        "\n",
        "def calcular_valor_a_pagar(valor_unitario, cantidad):\n",
        "  valor_total = valor_unitario * cantidad\n",
        "  return valor_total\n",
        "\n",
        "def imprmir_factura(persona,fruta, valor_unitario, cantidad):\n",
        "  valor_total = calcular_valor_a_pagar(valor_unitario, cantidad)\n",
        "\n",
        "  #print(f'{persona} debe pagar por {str(cantidad)} {fruta} un total de {str(valor_total)}')\n",
        "  print(f'Factura de compra: {persona} \\n Dato de la compra: {str(cantidad)} {fruta} \\n Valor facturado:  {str(valor_total)} \\n')\n",
        "\n",
        "\n",
        "# 'Pedro lleva dos naranjas'\n",
        "imprmir_factura('Pedro', 'naranaja', naranaja, 2)\n",
        "\n",
        "# 'María lleva tres naranjas'\n",
        "imprmir_factura('María', 'naranaja', naranaja, 3)\n",
        "\n",
        "# 'Diana lleva cuatro naranjas'\n",
        "imprmir_factura('Diana', 'naranaja', naranaja, 4)"
      ]
    },
    {
      "cell_type": "markdown",
      "metadata": {
        "id": "92SVDVW6cVWX"
      },
      "source": [
        "# Reto 3:\n",
        "Plan de descuento. De acuerdo a la fruta se hace un descuento.\n",
        "\n",
        "1. naranaja = 3%\n",
        "2. manzana = 9%\n",
        "3. durazno = %12"
      ]
    },
    {
      "cell_type": "code",
      "execution_count": 4,
      "metadata": {
        "colab": {
          "base_uri": "https://localhost:8080/"
        },
        "id": "EMmESzf2cg6q",
        "outputId": "2216966b-feba-42cb-c5aa-005c8721c4c9"
      },
      "outputs": [
        {
          "name": "stdout",
          "output_type": "stream",
          "text": [
            "Factura de compra: Pedro \n",
            " Dato de la compra: 1 naranaja \n",
            " Valor facturado: Valor bruto 1000 - Valor descuento 30.0 - Valor neto 970.0\n",
            "\n",
            "Factura de compra: María \n",
            " Dato de la compra: 3 naranaja \n",
            " Valor facturado: Valor bruto 3000 - Valor descuento 90.0 - Valor neto 2910.0\n",
            "\n",
            "Factura de compra: Diana \n",
            " Dato de la compra: 4 naranaja \n",
            " Valor facturado: Valor bruto 4000 - Valor descuento 120.0 - Valor neto 3880.0\n",
            "\n"
          ]
        }
      ],
      "source": [
        "# Precios\n",
        "naranaja = 1000\n",
        "manzana = 2200\n",
        "durazno = 3000\n",
        "\n",
        "def calcular_valor_a_pagar(valor_unitario, cantidad):\n",
        "  valor_total = valor_unitario * cantidad\n",
        "  return valor_total\n",
        "\n",
        "def calcular_valor_descuento(fruta, valor_total):\n",
        "  if fruta == 'naranaja':\n",
        "    descuento = valor_total * 0.03\n",
        "  elif fruta == 'manzana':\n",
        "    descuento = valor_total * 0.09\n",
        "  elif fruta == 'durazno':\n",
        "    descuento = valor_total * 0.12\n",
        "  return descuento\n",
        "\n",
        "def imprmir_factura(persona,fruta, valor_unitario, cantidad):\n",
        "  valor_total = calcular_valor_a_pagar(valor_unitario, cantidad)\n",
        "  descuento = calcular_valor_descuento(fruta, valor_total)\n",
        "  valor_neto = valor_total - descuento\n",
        "\n",
        "  #print(f'{persona} debe pagar por {str(cantidad)} {fruta} un total de {str(valor_total)}')\n",
        "  print(f'Factura de compra: {persona} \\n Dato de la compra: {str(cantidad)} {fruta} \\n Valor facturado: Valor bruto {str(valor_total)} - Valor descuento {str(descuento)} - Valor neto {str(valor_neto)}\\n')\n",
        "\n",
        "\n",
        "# 'Pedro lleva una naranjas'\n",
        "imprmir_factura('Pedro', 'naranaja', naranaja, 1)\n",
        "\n",
        "# 'María lleva tres naranjas'\n",
        "imprmir_factura('María', 'naranaja', naranaja, 3)\n",
        "\n",
        "# 'Diana lleva cuatro naranjas'\n",
        "imprmir_factura('Diana', 'naranaja', naranaja, 4)"
      ]
    }
  ],
  "metadata": {
    "colab": {
      "provenance": []
    },
    "kernelspec": {
      "display_name": "Python (IA-ESP)",
      "language": "python",
      "name": "ia-esp"
    },
    "language_info": {
      "codemirror_mode": {
        "name": "ipython",
        "version": 3
      },
      "file_extension": ".py",
      "mimetype": "text/x-python",
      "name": "python",
      "nbconvert_exporter": "python",
      "pygments_lexer": "ipython3",
      "version": "3.12.6"
    }
  },
  "nbformat": 4,
  "nbformat_minor": 0
}
