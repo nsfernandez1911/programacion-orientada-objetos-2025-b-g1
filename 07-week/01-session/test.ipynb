{
 "cells": [
  {
   "cell_type": "markdown",
   "id": "ec64635d",
   "metadata": {},
   "source": [
    "# Quiz 1\n",
    "\n",
    "1. Construir una función que permita realizar la suma de dos números\n",
    "2. A la variable x asignar el valor resultante de la función, si se realiza en envió de los valores 2 y 4\n",
    "3. Realice un 'print' del valor retornado de la función, es decir X. \n",
    "4. Imprimir el siguiente mensaje \"La suma de 4 y 2 es 6\".-"
   ]
  },
  {
   "cell_type": "code",
   "execution_count": 2,
   "id": "d28df9f8",
   "metadata": {},
   "outputs": [
    {
     "name": "stdout",
     "output_type": "stream",
     "text": [
      "6.0\n",
      "La suma de 4 y 2 es 6.0\n"
     ]
    }
   ],
   "source": [
    "# Caso 1\n",
    "def Sumar(num1, num2):\n",
    "    x = float(num1) + float(num2)\n",
    "    return x\n",
    "\n",
    "# Caso 2\n",
    "x = Sumar(2, 4)\n",
    "\n",
    "# Caso 3\n",
    "print(x)\n",
    "\n",
    "# Caso 4\n",
    "print(f\"La suma de 4 y 2 es {x}\")"
   ]
  }
 ],
 "metadata": {
  "kernelspec": {
   "display_name": "Python (IA-ESP)",
   "language": "python",
   "name": "ia-esp"
  },
  "language_info": {
   "codemirror_mode": {
    "name": "ipython",
    "version": 3
   },
   "file_extension": ".py",
   "mimetype": "text/x-python",
   "name": "python",
   "nbconvert_exporter": "python",
   "pygments_lexer": "ipython3",
   "version": "3.12.6"
  }
 },
 "nbformat": 4,
 "nbformat_minor": 5
}
