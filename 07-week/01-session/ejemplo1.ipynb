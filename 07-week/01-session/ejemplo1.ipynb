{
 "cells": [
  {
   "cell_type": "markdown",
   "id": "d389e007",
   "metadata": {},
   "source": [
    "# Ejemplo dos "
   ]
  },
  {
   "cell_type": "code",
   "execution_count": null,
   "id": "9e09d9d7",
   "metadata": {},
   "outputs": [
    {
     "ename": "",
     "evalue": "",
     "output_type": "error",
     "traceback": [
      "\u001b[1;31mRunning cells with 'Python 3.12.10' requires the ipykernel package.\n",
      "\u001b[1;31m<a href='command:jupyter.createPythonEnvAndSelectController'>Create a Python Environment</a> with the required packages.\n",
      "\u001b[1;31mOr install 'ipykernel' using the command: '\"c:/Program Files/MySQL/MySQL Workbench 8.0/python.exe\" -m pip install ipykernel -U --user --force-reinstall'"
     ]
    }
   ],
   "source": [
    "## Datos del globales\n",
    "estudiante = input(\"Digite el nombre del estudiante: \") \n",
    "materia = input(\"Digite el nombre de la materia: \")\n",
    "\n",
    "## Datos de la nota\n",
    "\n",
    "### Taller, Quiz y Foro 25%\n",
    "taller = float(input(\"Digite la nota del taller: \"))\n",
    "quiz = float(input(\"Digite la nota del quiz: \"))\n",
    "foro = float(input(\"Digite la nota del foro: \"))\n",
    "\n",
    "### Parcial 70%\n",
    "p_p1 = float(input(\"Digite la nota del parcial parte 1: \"))\n",
    "p_p2 = float(input(\"Digite la nota del parcial parte 2: \"))\n",
    "\n",
    "### Auto - Coe 5%\n",
    "auto = float(input(\"Digite la nota de la autoevaluación: \"))\n",
    "coe = float(input(\"Digite la nota de la coevaluación: \"))\n",
    "\n",
    "## Sumar notas en diccionarios\n",
    "df_taller = {taller, foro, quiz}\n",
    "df_parcial = {p_p1,p_p2}\n",
    "df_ac = {auto,coe}\n",
    "print(df_taller)\n",
    "print(df_parcial)\n",
    "print(df_ac)\n",
    "\n",
    "## Construir una función que recibe como parámetro un diccionario {x, y, z}, \n",
    "# dónde este dicionario puede tener uno o muchos datos. El segundo parámetro corresponde a el porcentaje de peso sobre la nota.\n",
    "\n",
    "def Calcular(df_data, porcentaje):    \n",
    "    #realizar ciclo que itere con df_data y aculue el dato sobre total, tambien lleve en cuenta la \n",
    "    # cantidad de iteraciones para obtener el promedio, y luego multiplicarlo por el porcentaje.\n",
    "\n",
    "    total = 0\n",
    "    cantidad = 0\n",
    "    for i in df_data:\n",
    "        total = total + i\n",
    "        cantidad = cantidad + 1\n",
    "\n",
    "    promedio = total / cantidad\n",
    "    nota_final = promedio * (porcentaje / 100)\n",
    "    return nota_final\n",
    "\n",
    "# usar la función\n",
    "def_taller = Calcular(df_taller, 25)\n",
    "def_parcial = Calcular(df_parcial, 70)\n",
    "def_ac = Calcular(df_ac, 5)\n",
    "\n",
    "# Realizar suma final\n",
    "df = def_taller + def_parcial + def_ac\n",
    "\n",
    "print(f\"La nota final del estudiante {estudiante} en la materia {materia} es: {df:.2f}\")\n",
    "\n",
    "\n"
   ]
  }
 ],
 "metadata": {
  "kernelspec": {
   "display_name": "Python 3",
   "language": "python",
   "name": "python3"
  },
  "language_info": {
   "name": "python",
   "version": "3.12.10"
  }
 },
 "nbformat": 4,
 "nbformat_minor": 5
}
