{
  "cells": [
    {
      "cell_type": "code",
      "execution_count": 21,
      "metadata": {
        "id": "f6672562"
      },
      "outputs": [],
      "source": [
        "from abc import ABC, abstractmethod"
      ]
    },
    {
      "cell_type": "code",
      "execution_count": 22,
      "metadata": {
        "id": "c5fd311a"
      },
      "outputs": [],
      "source": [
        "class Notificacion(ABC):\n",
        "    @abstractmethod\n",
        "    def preparar(self):\n",
        "        pass\n",
        "\n",
        "    @abstractmethod\n",
        "    def enviar(self):\n",
        "        pass"
      ]
    },
    {
      "cell_type": "code",
      "execution_count": 23,
      "metadata": {
        "id": "abca1b4f"
      },
      "outputs": [],
      "source": [
        "class Email(Notificacion):\n",
        "    def __init__(self, asunto, destinatario, cuerpo):\n",
        "        self.asunto = asunto\n",
        "        self.destinatario = destinatario\n",
        "        self.cuerpo = cuerpo\n",
        "\n",
        "    def preparar(self):\n",
        "        print(f\"Preparando email con asunto: '{self.asunto}' para: {self.destinatario}\")\n",
        "\n",
        "    def enviar(self):\n",
        "        print(f\"Enviando email con asunto: '{self.asunto}' a: {self.destinatario}\")"
      ]
    },
    {
      "cell_type": "code",
      "execution_count": 24,
      "metadata": {
        "id": "bd16eaed"
      },
      "outputs": [],
      "source": [
        "class SMS(Notificacion):\n",
        "    def __init__(self, numero, mensaje):\n",
        "        self.numero = numero\n",
        "        self.mensaje = mensaje\n",
        "\n",
        "    def preparar(self):\n",
        "        print(f\"Preparando SMS para el número: {self.numero}\")\n",
        "        if len(self.mensaje) > 160:\n",
        "            print(\"Advertencia: El mensaje excede el límite de 160 caracteres.\")\n",
        "\n",
        "    def enviar(self):\n",
        "        print(f\"Enviando SMS al número: {self.numero} con el mensaje: '{self.mensaje}'\")"
      ]
    },
    {
      "cell_type": "code",
      "execution_count": 25,
      "metadata": {
        "id": "3f84f0c9"
      },
      "outputs": [],
      "source": [
        "class Push(Notificacion):\n",
        "    def __init__(self, dispositivo, contenido):\n",
        "        self.dispositivo = dispositivo\n",
        "        self.contenido = contenido\n",
        "\n",
        "    def preparar(self):\n",
        "        print(f\"Preparando notificación push para el dispositivo: {self.dispositivo}\")\n",
        "\n",
        "    def enviar(self):\n",
        "        print(f\"Enviando notificación push al dispositivo: {self.dispositivo} con contenido: '{self.contenido}'\")"
      ]
    },
    {
      "cell_type": "code",
      "execution_count": 26,
      "metadata": {
        "id": "6c6ba9de"
      },
      "outputs": [],
      "source": [
        "class GestorNotificaciones:\n",
        "    def __init__(self):\n",
        "        self.notificaciones = []"
      ]
    },
    {
      "cell_type": "code",
      "execution_count": 27,
      "metadata": {
        "id": "0f857074"
      },
      "outputs": [],
      "source": [
        "class GestorNotificaciones:\n",
        "    def __init__(self):\n",
        "        self.notificaciones = []\n",
        "\n",
        "    def agregar_notificacion(self, notificacion):\n",
        "        if isinstance(notificacion, Notificacion):\n",
        "            self.notificaciones.append(notificacion)\n",
        "        else:\n",
        "            print(\"Solo se pueden agregar objetos de tipo Notificacion o sus subclases.\")"
      ]
    },
    {
      "cell_type": "code",
      "execution_count": 28,
      "metadata": {
        "id": "e20f85df"
      },
      "outputs": [],
      "source": [
        "class GestorNotificaciones:\n",
        "    def __init__(self):\n",
        "        self.notificaciones = []\n",
        "\n",
        "    def agregar_notificacion(self, notificacion):\n",
        "        if isinstance(notificacion, Notificacion):\n",
        "            self.notificaciones.append(notificacion)\n",
        "        else:\n",
        "            print(\"Solo se pueden agregar objetos de tipo Notificacion o sus subclases.\")\n",
        "\n",
        "    def procesar_notificaciones(self):\n",
        "        print(\"Iniciando procesamiento de notificaciones...\")\n",
        "        for notificacion in self.notificaciones:\n",
        "            notificacion.preparar()\n",
        "            notificacion.enviar()\n",
        "        print(\"Procesamiento de notificaciones finalizado.\")"
      ]
    },
    {
      "cell_type": "code",
      "execution_count": 29,
      "metadata": {
        "id": "3e6300b6"
      },
      "outputs": [],
      "source": [
        "class GestorNotificaciones:\n",
        "    def __init__(self):\n",
        "        self.notificaciones = []\n",
        "\n",
        "    def agregar_notificacion(self, notificacion):\n",
        "        if isinstance(notificacion, Notificacion):\n",
        "            self.notificaciones.append(notificacion)\n",
        "        else:\n",
        "            print(\"Solo se pueden agregar objetos de tipo Notificacion o sus subclases.\")\n",
        "\n",
        "    def procesar_notificaciones(self):\n",
        "        print(\"Iniciando procesamiento de notificaciones...\")\n",
        "        for notificacion in self.notificaciones:\n",
        "            notificacion.preparar()\n",
        "            notificacion.enviar()\n",
        "            # Simulate logging the result\n",
        "            import random\n",
        "            if random.random() > 0.1:  # 90% chance of success\n",
        "                print(\"Resultado del envío: Éxito\")\n",
        "            else:\n",
        "                print(\"Resultado del envío: Fallido simulado\")\n",
        "\n",
        "            # Simulate a common rule: special handling for SMS\n",
        "            if isinstance(notificacion, SMS):\n",
        "                print(\"Aplicando regla especial para SMS: Verificando entrega posterior.\")\n",
        "\n",
        "        print(\"Procesamiento de notificaciones finalizado.\")"
      ]
    },
    {
      "cell_type": "code",
      "execution_count": 30,
      "metadata": {
        "colab": {
          "base_uri": "https://localhost:8080/"
        },
        "id": "051fd2a3",
        "outputId": "c815c6d1-e717-4323-dae0-c9a10dc119f7"
      },
      "outputs": [
        {
          "name": "stdout",
          "output_type": "stream",
          "text": [
            "Iniciando procesamiento de notificaciones...\n",
            "Preparando email con asunto: 'Test Subject' para: test@example.com\n",
            "Enviando email con asunto: 'Test Subject' a: test@example.com\n",
            "Resultado del envío: Éxito\n",
            "Preparando SMS para el número: 1234567890\n",
            "Enviando SMS al número: 1234567890 con el mensaje: 'This is a test SMS message.'\n",
            "Resultado del envío: Éxito\n",
            "Aplicando regla especial para SMS: Verificando entrega posterior.\n",
            "Preparando notificación push para el dispositivo: device_token_123\n",
            "Enviando notificación push al dispositivo: device_token_123 con contenido: 'New message received!'\n",
            "Resultado del envío: Éxito\n",
            "Procesamiento de notificaciones finalizado.\n"
          ]
        }
      ],
      "source": [
        "# 1. Create an instance of the GestorNotificaciones class.\n",
        "gestor = GestorNotificaciones()\n",
        "\n",
        "# 2. Create instances of the Email, SMS, and Push classes with some example data.\n",
        "email_notif = Email(\"Test Subject\", \"test@example.com\", \"This is a test email body.\")\n",
        "sms_notif = SMS(\"1234567890\", \"This is a test SMS message.\")\n",
        "push_notif = Push(\"device_token_123\", \"New message received!\")\n",
        "\n",
        "# 3. Use the agregar_notificacion method to add the notification objects.\n",
        "gestor.agregar_notificacion(email_notif)\n",
        "gestor.agregar_notificacion(sms_notif)\n",
        "gestor.agregar_notificacion(push_notif)\n",
        "\n",
        "# 4. Call the procesar_notificaciones method to trigger processing.\n",
        "gestor.procesar_notificaciones()"
      ]
    },
    {
      "cell_type": "markdown",
      "metadata": {},
      "source": [
        "1.class Sensor(ABC):: Tendríamos una clase base llamada Sensor que hereda de ABC (de abc), marcándola como abstracta.\n",
        "2.@abstractmethod def leer(self): pass: Dentro de Sensor, habría un método leer decorado con @abstractmethod. Esto obliga a cualquier clase que herede de Sensor a implementar su propia versión de leer.\n",
        "3.@classmethod def from_config(cls, cfg): ...: En Sensor, un método de clase (@classmethod) llamado from_config recibiría un diccionario cfg. Este método examinaría el cfg para decidir qué subclase de Sensor instanciar (SensorTemperatura o SensorHumedad).\n",
        "4.class SensorTemperatura(Sensor): ... y class SensorHumedad(Sensor): ...: Se definirían estas dos clases heredando de Sensor. Cada una tendría su __init__ para sus atributos (offset o escala) y su propia implementación del método leer(), simulando la lectura y aplicando su ajuste.\n",
        "5.def crear_sensor(cfg): return Sensor.from_config(cfg): Finalmente, una función simple crear_sensor encapsularía la llamada al método de clase, haciendo más fácil obtener una instancia de sensor usando solo la configuración"
      ]
    }
  ],
  "metadata": {
    "colab": {
      "provenance": []
    },
    "kernelspec": {
      "display_name": "Python 3",
      "name": "python3"
    },
    "language_info": {
      "name": "python"
    }
  },
  "nbformat": 4,
  "nbformat_minor": 0
}
