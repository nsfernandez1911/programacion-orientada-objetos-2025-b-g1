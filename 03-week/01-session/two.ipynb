{
  "cells": [
    {
      "cell_type": "code",
      "execution_count": 2,
      "metadata": {
        "id": "ee344e4d"
      },
      "outputs": [],
      "source": [
        "from abc import ABC, abstractmethod\n",
        "\n",
        "class Forma(ABC):\n",
        "    @abstractmethod\n",
        "    def area(self):\n",
        "        pass"
      ]
    },
    {
      "cell_type": "code",
      "execution_count": 3,
      "metadata": {
        "id": "d3eb5481"
      },
      "outputs": [],
      "source": [
        "class Rectangulo(Forma):\n",
        "    def __init__(self, ancho, alto):\n",
        "        self.ancho = ancho\n",
        "        self.alto = alto\n",
        "\n",
        "    def area(self):\n",
        "        return self.ancho * self.alto"
      ]
    },
    {
      "cell_type": "code",
      "execution_count": 4,
      "metadata": {
        "id": "ded6bf19"
      },
      "outputs": [],
      "source": [
        "import math\n",
        "\n",
        "class Circulo(Forma):\n",
        "    def __init__(self, radio):\n",
        "        self.radio = radio\n",
        "\n",
        "    def area(self):\n",
        "        return math.pi * self.radio**2"
      ]
    },
    {
      "cell_type": "code",
      "execution_count": 13,
      "metadata": {
        "id": "be98fd8d"
      },
      "outputs": [],
      "source": [
        "def calcular_area_total(figuras: list):\n",
        "    total_area = 0\n",
        "    for figura in figuras:\n",
        "        total_area += figura.area()\n",
        "    return total_area"
      ]
    },
    {
      "cell_type": "code",
      "execution_count": null,
      "metadata": {
        "colab": {
          "base_uri": "https://localhost:8080/"
        },
        "id": "2d1b962d",
        "outputId": "66202a09-04bf-4c58-9d38-2f2f0a4f7143"
      },
      "outputs": [
        {
          "name": "stdout",
          "output_type": "stream",
          "text": [
            "Ingresa el ancho del primer rectángulo: 12\n",
            "Ingresa el alto del primer rectángulo: 12\n",
            "Ingresa el radio del círculo: 10\n",
            "Ingresa el ancho del segundo rectángulo: 12\n",
            "Ingresa el alto del segundo rectángulo: 12\n",
            "El área total de las figuras es: 602.1592653589794\n"
          ]
        }
      ],
      "source": [
        "# Crear instancias de las clases concretas\n",
        "# rectangulo1 = Rectangulo(ancho=4, alto=5)\n",
        "# circulo1 = Circulo(radio=3)\n",
        "# rectangulo2 = Rectangulo(ancho=2, alto=8)\n",
        "\n",
        "# Crear una lista de figuras\n",
        "\n",
        "# Obtener datos del usuario para el primer rectángulo\n",
        "ancho1 = float(input(\"Ingresa el ancho del primer rectángulo: \"))\n",
        "alto1 = float(input(\"Ingresa el alto del primer rectángulo: \"))\n",
        "rectangulo1 = Rectangulo(ancho=ancho1, alto=alto1)\n",
        "\n",
        "# Obtener datos del usuario para el círculo\n",
        "radio1 = float(input(\"Ingresa el radio del círculo: \"))\n",
        "circulo1 = Circulo(radio=radio1)\n",
        "\n",
        "# Obtener datos del usuario para el segundo rectángulo\n",
        "ancho2 = float(input(\"Ingresa el ancho del segundo rectángulo: \"))\n",
        "alto2 = float(input(\"Ingresa el alto del segundo rectángulo: \"))\n",
        "rectangulo2 = Rectangulo(ancho=ancho2, alto=alto2)\n",
        "\n",
        "\n",
        "figuras = [rectangulo1, circulo1, rectangulo2]\n",
        "\n",
        "# Calcular el área total usando la función\n",
        "area_total = calcular_area_total(figuras)\n",
        "\n",
        "# Mostrar el resultado\n",
        "print(f\"El área total de las figuras es: {area_total}\")\n",
        "\n",
        "\n",
        "\n",
        "#Se plantea un modelo abstracto llamado Figura, el cual establece que toda figura geométrica debe poder calcular su área. A partir de este modelo se crean dos clases concretas: Rectángulo y Círculo, cada una con su fórmula específica para hallar el área.\n",
        "\n",
        "#En el programa principal, se solicitan al usuario las medidas necesarias para ambas figuras, se guardan en una lista y luego, mediante una función que recorre esa lista, se calculan sus áreas individuales y se suman para obtener el área total.\n",
        "\n",
        "#Este enfoque facilita la organización del código y permite añadir nuevas figuras sin necesidad de modificar la estructura principal del programa."
      ]
    }
  ],
  "metadata": {
    "colab": {
      "provenance": []
    },
    "kernelspec": {
      "display_name": "Python 3",
      "name": "python3"
    },
    "language_info": {
      "name": "python"
    }
  },
  "nbformat": 4,
  "nbformat_minor": 0
}
