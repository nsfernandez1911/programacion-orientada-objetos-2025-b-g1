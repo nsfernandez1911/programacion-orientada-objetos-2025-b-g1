{
  "cells": [
    {
      "cell_type": "code",
      "execution_count": 14,
      "metadata": {
        "id": "7a9a1f68"
      },
      "outputs": [],
      "source": [
        "from abc import ABC, abstractmethod\n",
        "\n",
        "class Sensor(ABC):\n",
        "    @abstractmethod\n",
        "    def leer(self):\n",
        "        pass"
      ]
    },
    {
      "cell_type": "code",
      "execution_count": 15,
      "metadata": {
        "id": "c9afdd0b"
      },
      "outputs": [],
      "source": [
        "class Sensor(ABC):\n",
        "    @abstractmethod\n",
        "    def leer(self):\n",
        "        pass\n",
        "\n",
        "    @classmethod\n",
        "    def from_config(cls, cfg):\n",
        "        sensor_type = cfg.get('tipo')\n",
        "        if sensor_type == 'temperatura':\n",
        "            # Placeholder for creating SensorTemperatura instance\n",
        "            return f\"Creating SensorTemperatura with config: {cfg}\"\n",
        "        elif sensor_type == 'humedad':\n",
        "            # Placeholder for creating SensorHumedad instance\n",
        "            return f\"Creating SensorHumedad with config: {cfg}\"\n",
        "        else:\n",
        "            raise ValueError(f\"Unknown sensor type: {sensor_type}\")\n"
      ]
    },
    {
      "cell_type": "code",
      "execution_count": 16,
      "metadata": {
        "id": "ae28fd8e"
      },
      "outputs": [],
      "source": [
        "import random\n",
        "\n",
        "class SensorTemperatura(Sensor):\n",
        "    def __init__(self, offset):\n",
        "        self.offset = offset\n",
        "\n",
        "    def leer(self):\n",
        "        # Simulate a base temperature reading\n",
        "        base_temperature = 20.0 + (random.random() * 10.0 - 5.0) # Simulate temperature between 15 and 25\n",
        "\n",
        "        # Add the offset\n",
        "        temperature_with_offset = base_temperature + self.offset\n",
        "        return temperature_with_offset"
      ]
    },
    {
      "cell_type": "code",
      "execution_count": 17,
      "metadata": {
        "id": "6ef90974"
      },
      "outputs": [],
      "source": [
        "import random\n",
        "\n",
        "class SensorHumedad(Sensor):\n",
        "    def __init__(self, escala):\n",
        "        self.escala = escala\n",
        "\n",
        "    def leer(self):\n",
        "        # Simulate a base humidity reading\n",
        "        base_humidity = 40.0 + (random.random() * 30.0 - 15.0) # Simulate humidity between 25 and 55\n",
        "\n",
        "        # Multiply by the scale\n",
        "        humidity_with_scale = base_humidity * self.escala\n",
        "        return humidity_with_scale"
      ]
    },
    {
      "cell_type": "code",
      "execution_count": 18,
      "metadata": {
        "id": "d40f1177"
      },
      "outputs": [],
      "source": [
        "class Sensor(ABC):\n",
        "    @abstractmethod\n",
        "    def leer(self):\n",
        "        pass\n",
        "\n",
        "    @classmethod\n",
        "    def from_config(cls, cfg):\n",
        "        sensor_type = cfg.get('tipo')\n",
        "        if sensor_type == 'temperatura':\n",
        "            # Instantiate SensorTemperatura with offset\n",
        "            offset = cfg.get('offset', 0) # Default to 0 if offset is not provided\n",
        "            return SensorTemperatura(offset)\n",
        "        elif sensor_type == 'humedad':\n",
        "            # Instantiate SensorHumedad with escala\n",
        "            escala = cfg.get('escala', 1.0) # Default to 1.0 if escala is not provided\n",
        "            return SensorHumedad(escala)\n",
        "        else:\n",
        "            raise ValueError(f\"Unknown sensor type: {sensor_type}\")\n"
      ]
    },
    {
      "cell_type": "code",
      "execution_count": 19,
      "metadata": {
        "id": "e16fa4ce"
      },
      "outputs": [],
      "source": [
        "def crear_sensor(cfg):\n",
        "    \"\"\"Creates a sensor instance from a configuration dictionary.\"\"\"\n",
        "    return Sensor.from_config(cfg)"
      ]
    },
    {
      "cell_type": "code",
      "execution_count": null,
      "metadata": {
        "colab": {
          "base_uri": "https://localhost:8080/"
        },
        "id": "335cfe6c",
        "outputId": "d9c9b01c-2356-4b81-edc1-6ad5d2cd8ce7"
      },
      "outputs": [
        {
          "name": "stdout",
          "output_type": "stream",
          "text": [
            "Temperatura leída: 24.176451686230315\n",
            "Humedad leída: 50.278359014406554\n"
          ]
        }
      ],
      "source": [
        "# 1. Create a dictionary named temp_config\n",
        "temp_config = {\n",
        "    'tipo': 'temperatura',\n",
        "    'offset': 1.5\n",
        "}\n",
        "\n",
        "# 2. Create a dictionary named hum_config\n",
        "hum_config = {\n",
        "    'tipo': 'humedad',\n",
        "    'escala': 1.2\n",
        "}\n",
        "\n",
        "# 3. Call the crear_sensor() function with temp_config\n",
        "temp_sensor = crear_sensor(temp_config)\n",
        "\n",
        "# 4. Call the crear_sensor() function with hum_config\n",
        "hum_sensor = crear_sensor(hum_config)\n",
        "\n",
        "# 5. Call the leer() method on the temp_sensor instance and print the result\n",
        "print(f\"Temperatura leída: {temp_sensor.leer()}\")\n",
        "\n",
        "# 6. Call the leer() method on the hum_sensor instance and print the result\n",
        "print(f\"Humedad leída: {hum_sensor.leer()}\")\n",
        "\n",
        "#Se define una clase base llamada Sensor, la cual garantiza que todo sensor creado disponga de un método para obtener lecturas.\n",
        "#A partir de esta clase se derivan dos sensores concretos: uno de Temperatura, que incorpora un ajuste.\n",
        "#Y otro de Humedad, que incluye una escala propia y realiza la lectura según su lógica particular.\n"
      ]
    }
  ],
  "metadata": {
    "colab": {
      "provenance": []
    },
    "kernelspec": {
      "display_name": "Python 3",
      "name": "python3"
    },
    "language_info": {
      "name": "python"
    }
  },
  "nbformat": 4,
  "nbformat_minor": 0
}
