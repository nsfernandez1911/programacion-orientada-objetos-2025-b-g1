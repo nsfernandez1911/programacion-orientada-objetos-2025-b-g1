{
  "cells": [
    {
      "cell_type": "code",
      "execution_count": null,
      "metadata": {
        "id": "oZhH8psiOk_R"
      },
      "outputs": [],
      "source": [
        "class cuentaBancaria:\n",
        "\n",
        "  def __init__(self, titular: str, saldo_inicial:float=0.0):\n",
        "    if saldo_inicial<0:\n",
        "      raise ValueError(\"el saldo inical no puede ser negativo\")\n",
        "    self.titular = titular\n",
        "    self._saldo = float(saldo_inicial)\n",
        "    self.historial: list[str]= []\n",
        "\n",
        "  @property\n",
        "  def saldo(self) -> float:\n",
        "    return self._saldo\n",
        "\n",
        "  def depositar(self, monto:float) -> None:\n",
        "    if monto <= 0:\n",
        "      raise ValueError(\"el deposito debe ser positivo\")\n",
        "    self._saldo += monto\n",
        "    self.historial.append(f\"deposito {monto}\")\n",
        "\n",
        "  def retirar(self, monto: float)-> None:\n",
        "    if monto<=0:\n",
        "      raise ValueError(\"el retiro debe ser positivo\")\n",
        "    if monto > self._saldo:\n",
        "      raise ValueError(\"fondos insuficientes\")\n",
        "    self._saldo -= monto\n",
        "    self.historial.append(f\"retiro {monto}\")\n",
        "\n",
        "  def __repr__(self) -> str:\n",
        "    return f\"cuentabancaria(titular='{self.titular}', saldo={self._saldo:.2f})\"\n",
        "  \n",
        "\n",
        "\n",
        "  #La clase CuentaBancaria modela una cuenta que contiene un titular, un saldo de apertura y un registro de movimientos.\n",
        "  #En su constructor (_init_) se verifica que el saldo inicial no sea menor que cero y se almacenan los datos correspondientes.\n",
        "  #El método depositar incrementa el saldo cuando el monto ingresado es válido y además lo añade al historial de transacciones."
      ]
    },
    {
      "cell_type": "markdown",
      "metadata": {
        "id": "tdxnED4bcuTj"
      },
      "source": []
    },
    {
      "cell_type": "code",
      "execution_count": null,
      "metadata": {},
      "outputs": [],
      "source": []
    },
    {
      "cell_type": "code",
      "execution_count": 7,
      "metadata": {
        "colab": {
          "base_uri": "https://localhost:8080/",
          "height": 32
        },
        "id": "43081de3",
        "outputId": "3676b549-de76-4cfa-96d7-390cb9df56c1"
      },
      "outputs": [
        {
          "data": {
            "text/plain": [
              "cuentabancaria(titular='Juan Perez', saldo=1000.00)"
            ]
          },
          "metadata": {},
          "output_type": "display_data"
        }
      ],
      "source": [
        "# Create a new bank account\n",
        "my_account = cuentaBancaria(\"Juan Perez\", 1000.0)\n",
        "display(my_account)"
      ]
    },
    {
      "cell_type": "code",
      "execution_count": 8,
      "metadata": {
        "colab": {
          "base_uri": "https://localhost:8080/",
          "height": 32
        },
        "id": "303003ae",
        "outputId": "70c1985e-d87e-4164-fbb6-a627d6798975"
      },
      "outputs": [
        {
          "data": {
            "text/plain": [
              "cuentabancaria(titular='Juan Perez', saldo=1500.00)"
            ]
          },
          "metadata": {},
          "output_type": "display_data"
        }
      ],
      "source": [
        "# Make a deposit\n",
        "my_account.depositar(500.0)\n",
        "display(my_account)"
      ]
    },
    {
      "cell_type": "code",
      "execution_count": 9,
      "metadata": {
        "colab": {
          "base_uri": "https://localhost:8080/",
          "height": 32
        },
        "id": "e86118fe",
        "outputId": "bd4dc48b-a91e-4f1a-9e18-ffad65ddf2ea"
      },
      "outputs": [
        {
          "data": {
            "text/plain": [
              "cuentabancaria(titular='Juan Perez', saldo=1300.00)"
            ]
          },
          "metadata": {},
          "output_type": "display_data"
        }
      ],
      "source": [
        "# Make a withdrawal\n",
        "my_account.retirar(200.0)\n",
        "display(my_account)"
      ]
    },
    {
      "cell_type": "code",
      "execution_count": 10,
      "metadata": {
        "colab": {
          "base_uri": "https://localhost:8080/",
          "height": 32
        },
        "id": "6ae902b4",
        "outputId": "5285a99d-c41b-4f2e-eae4-2c8f4d1850a4"
      },
      "outputs": [
        {
          "data": {
            "text/plain": [
              "['deposito 500.0', 'retiro 200.0']"
            ]
          },
          "metadata": {},
          "output_type": "display_data"
        }
      ],
      "source": [
        "# Check the transaction history\n",
        "display(my_account.historial)"
      ]
    }
  ],
  "metadata": {
    "colab": {
      "provenance": []
    },
    "kernelspec": {
      "display_name": "Python 3",
      "name": "python3"
    },
    "language_info": {
      "name": "python"
    }
  },
  "nbformat": 4,
  "nbformat_minor": 0
}
