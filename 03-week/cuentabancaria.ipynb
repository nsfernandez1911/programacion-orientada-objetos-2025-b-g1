{
  "nbformat": 4,
  "nbformat_minor": 0,
  "metadata": {
    "colab": {
      "provenance": []
    },
    "kernelspec": {
      "name": "python3",
      "display_name": "Python 3"
    },
    "language_info": {
      "name": "python"
    }
  },
  "cells": [
    {
      "cell_type": "code",
      "execution_count": 12,
      "metadata": {
        "id": "oZhH8psiOk_R"
      },
      "outputs": [],
      "source": [
        "class cuentaBancaria:\n",
        "\n",
        "  def __init__(self, titular: str, saldo_inicial:float=0.0):\n",
        "    if saldo_inicial<0:\n",
        "      raise ValueError(\"el saldo inical no puede ser negativo\")\n",
        "    self.titular = titular\n",
        "    self._saldo = float(saldo_inicial)\n",
        "    self.historial: list[str]= []\n",
        "\n",
        "  @property\n",
        "  def saldo(self) -> float:\n",
        "    return self._saldo\n",
        "\n",
        "  def depositar(self, monto:float) -> None:\n",
        "    if monto <= 0:\n",
        "      raise ValueError(\"el deposito debe ser positivo\")\n",
        "    self._saldo += monto\n",
        "    self.historial.append(f\"deposito {monto}\")\n",
        "\n",
        "  def retirar(self, monto: float)-> None:\n",
        "    if monto<=0:\n",
        "      raise ValueError(\"el retiro debe ser positivo\")\n",
        "    if monto > self._saldo:\n",
        "      raise ValueError(\"fondos insuficientes\")\n",
        "    self._saldo -= monto\n",
        "    self.historial.append(f\"retiro {monto}\")\n",
        "\n",
        "  def __repr__(self) -> str:\n",
        "    return f\"cuentabancaria(titular='{self.titular}', saldo={self._saldo:.2f})\""
      ]
    },
    {
      "cell_type": "markdown",
      "source": [],
      "metadata": {
        "id": "tdxnED4bcuTj"
      }
    },
    {
      "cell_type": "code",
      "metadata": {
        "colab": {
          "base_uri": "https://localhost:8080/",
          "height": 32
        },
        "id": "43081de3",
        "outputId": "3676b549-de76-4cfa-96d7-390cb9df56c1"
      },
      "source": [
        "# Create a new bank account\n",
        "my_account = cuentaBancaria(\"Juan Perez\", 1000.0)\n",
        "display(my_account)"
      ],
      "execution_count": 7,
      "outputs": [
        {
          "output_type": "display_data",
          "data": {
            "text/plain": [
              "cuentabancaria(titular='Juan Perez', saldo=1000.00)"
            ]
          },
          "metadata": {}
        }
      ]
    },
    {
      "cell_type": "code",
      "metadata": {
        "colab": {
          "base_uri": "https://localhost:8080/",
          "height": 32
        },
        "id": "303003ae",
        "outputId": "70c1985e-d87e-4164-fbb6-a627d6798975"
      },
      "source": [
        "# Make a deposit\n",
        "my_account.depositar(500.0)\n",
        "display(my_account)"
      ],
      "execution_count": 8,
      "outputs": [
        {
          "output_type": "display_data",
          "data": {
            "text/plain": [
              "cuentabancaria(titular='Juan Perez', saldo=1500.00)"
            ]
          },
          "metadata": {}
        }
      ]
    },
    {
      "cell_type": "code",
      "metadata": {
        "colab": {
          "base_uri": "https://localhost:8080/",
          "height": 32
        },
        "id": "e86118fe",
        "outputId": "bd4dc48b-a91e-4f1a-9e18-ffad65ddf2ea"
      },
      "source": [
        "# Make a withdrawal\n",
        "my_account.retirar(200.0)\n",
        "display(my_account)"
      ],
      "execution_count": 9,
      "outputs": [
        {
          "output_type": "display_data",
          "data": {
            "text/plain": [
              "cuentabancaria(titular='Juan Perez', saldo=1300.00)"
            ]
          },
          "metadata": {}
        }
      ]
    },
    {
      "cell_type": "code",
      "metadata": {
        "colab": {
          "base_uri": "https://localhost:8080/",
          "height": 32
        },
        "id": "6ae902b4",
        "outputId": "5285a99d-c41b-4f2e-eae4-2c8f4d1850a4"
      },
      "source": [
        "# Check the transaction history\n",
        "display(my_account.historial)"
      ],
      "execution_count": 10,
      "outputs": [
        {
          "output_type": "display_data",
          "data": {
            "text/plain": [
              "['deposito 500.0', 'retiro 200.0']"
            ]
          },
          "metadata": {}
        }
      ]
    }
  ]
}